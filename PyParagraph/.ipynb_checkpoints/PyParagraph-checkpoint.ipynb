{
 "cells": [
  {
   "cell_type": "code",
   "execution_count": 1,
   "metadata": {},
   "outputs": [],
   "source": [
    "# Incorporate regular expressions (helpful for splitting by punctuation)\n",
    "import re"
   ]
  },
  {
   "cell_type": "code",
   "execution_count": 2,
   "metadata": {},
   "outputs": [],
   "source": [
    "# Files to load and output (Remember to change these)\n",
    "file_to_load = \"raw_data/paragraph_2.txt\"\n",
    "file_to_output = \"analysis/paragraph_analysis.txt\""
   ]
  },
  {
   "cell_type": "code",
   "execution_count": 3,
   "metadata": {},
   "outputs": [],
   "source": [
    "# String variable to hold the paragraph contents\n",
    "paragraph = \"\""
   ]
  },
  {
   "cell_type": "code",
   "execution_count": 4,
   "metadata": {},
   "outputs": [],
   "source": [
    "# Read the text file\n",
    "with open(file_to_load) as txt_data:\n",
    "\n",
    "    # Store the contents as a string (with no new lines)\n",
    "    paragraph = txt_data.read().replace(\"\\n\", \" \")"
   ]
  },
  {
   "cell_type": "code",
   "execution_count": 5,
   "metadata": {},
   "outputs": [],
   "source": [
    "# Split the paragraph based on spaces to calculate word count\n",
    "word_split = paragraph.split(\" \")\n",
    "word_count = len(word_split)"
   ]
  },
  {
   "cell_type": "code",
   "execution_count": 6,
   "metadata": {},
   "outputs": [],
   "source": [
    "# Create a list for holding all the letter counts\n",
    "letter_counts = []"
   ]
  },
  {
   "cell_type": "code",
   "execution_count": 7,
   "metadata": {},
   "outputs": [],
   "source": [
    "# Loop through the word array and calculate the length of each word\n",
    "for word in word_split:\n",
    "\n",
    "    # Add each letter count into the letter_counts list\n",
    "    letter_counts.append(len(word))"
   ]
  },
  {
   "cell_type": "code",
   "execution_count": 9,
   "metadata": {},
   "outputs": [
    {
     "data": {
      "text/plain": [
       "1496"
      ]
     },
     "execution_count": 9,
     "metadata": {},
     "output_type": "execute_result"
    }
   ],
   "source": [
    "sum(letter_counts)"
   ]
  },
  {
   "cell_type": "code",
   "execution_count": 11,
   "metadata": {},
   "outputs": [
    {
     "data": {
      "text/plain": [
       "5.08843537414966"
      ]
     },
     "execution_count": 11,
     "metadata": {},
     "output_type": "execute_result"
    }
   ],
   "source": [
    "# Calculate the avg letter count\n",
    "avg_letter_count = sum(letter_counts) / float(len(letter_counts))\n",
    "avg_letter_count"
   ]
  },
  {
   "cell_type": "code",
   "execution_count": 12,
   "metadata": {},
   "outputs": [],
   "source": [
    "# Re-split the original paragraph based on punctuation (. ? !)\n",
    "sentence_split = re.split(\"(?<=[.!?]) +\", paragraph)"
   ]
  },
  {
   "cell_type": "code",
   "execution_count": 13,
   "metadata": {},
   "outputs": [
    {
     "name": "stdout",
     "output_type": "stream",
     "text": [
      "[\"When Jackie Chan saw an Oscar at Sylvester Stallone's house 23 years ago, he said that was the moment he decided he wanted one.\", 'On Saturday at the annual Governors Awards, the Chinese actor and martial arts star finally received his little gold statuette, an honorary Oscar for his decades of work in film.', '\"After 56 years in the film industry, making more than 200 films, after so many bones, finally,\" Chan, 62, quipped at the star-studded gala dinner while holding his Oscar.', \"The actor recalled watching the ceremony with his parents and his father always asking him why he didn't have Hollywood's top accolade despite having made so many movies.\", 'He praised his hometown Hong Kong for making him \"proud to be Chinese,\" and thanked his fans, saying they were the reason \"I continue to make movies, jumping through windows, kicking and punching, breaking my bones.\"  The actor was introduced by his \"Rush Hour\" co-star Chris Tucker, actress Michelle Yeoh and Tom Hanks, who referred to him as \"Jackie \\'Chantastic\\' Chan.\"  Hanks said it was especially gratifying to be able to acknowledge Chan\\'s work because martial arts and action comedy films were two genres often overlooked during awards season.', 'The Academy of Motion Pictures Arts and Sciences, hosts of the annual ceremony, also bestowed honorary Oscars on British film editor Anne V.', 'Coates, casting director Lynn Stalmaster and prolific documentarian Frederick Wiseman.', \"The evening was attended by Hollywood's elite, including Denzel Washington, Lupita Nyong'o, Nicole Kidman, Emma Stone, Ryan Reynolds, Amy Adams and Dev Patel.\", 'Stalmaster, 88, credited with securing career-defining roles for actors such as Jeff Bridges, Andy Garcia, Christopher Reeve and John Travolta, is the first casting director to receive an Oscar.']\n"
     ]
    }
   ],
   "source": [
    "print(sentence_split)\n",
    "sentence_count = len(sentence_split)"
   ]
  },
  {
   "cell_type": "code",
   "execution_count": 14,
   "metadata": {},
   "outputs": [],
   "source": [
    "words_per_sentence = []"
   ]
  },
  {
   "cell_type": "code",
   "execution_count": 15,
   "metadata": {},
   "outputs": [],
   "source": [
    "# Loop through the sentence array and calculate the number of words in each\n",
    "for sentence in sentence_split:\n",
    "\n",
    "    # Calculate the number of words in each sentence and add to the list\n",
    "    words_per_sentence.append(len(sentence.split(\" \")))"
   ]
  },
  {
   "cell_type": "code",
   "execution_count": 16,
   "metadata": {},
   "outputs": [],
   "source": [
    "# Calculate the avg word count (per sentence)\n",
    "avg_sentence_len = sum(words_per_sentence) / float(len(words_per_sentence))"
   ]
  },
  {
   "cell_type": "code",
   "execution_count": 17,
   "metadata": {},
   "outputs": [],
   "source": [
    "# Generate Paragraph Analysis Output\n",
    "output = (\n",
    "    f\"\\nParagraph Analysis\\n\"\n",
    "    f\"-----------------\\n\"\n",
    "    f\"Approximate Word Count: {word_count}\\n\"\n",
    "    f\"Approximate Sentence Count: {sentence_count}\\n\"\n",
    "    f\"Average Letter Count: {avg_letter_count}\\n\"\n",
    "    f\"Average Sentence Length: {avg_sentence_len}\\n\")"
   ]
  },
  {
   "cell_type": "code",
   "execution_count": 18,
   "metadata": {},
   "outputs": [
    {
     "name": "stdout",
     "output_type": "stream",
     "text": [
      "\n",
      "Paragraph Analysis\n",
      "-----------------\n",
      "Approximate Word Count: 294\n",
      "Approximate Sentence Count: 9\n",
      "Average Letter Count: 5.08843537414966\n",
      "Average Sentence Length: 31.88888888888889\n",
      "\n"
     ]
    }
   ],
   "source": [
    "# Print all of the results (to terminal)\n",
    "print(output)"
   ]
  },
  {
   "cell_type": "code",
   "execution_count": 19,
   "metadata": {},
   "outputs": [],
   "source": [
    "# Save the results to analysis text file\n",
    "with open(file_to_output, \"a\") as txt_file:\n",
    "    txt_file.write(output)"
   ]
  },
  {
   "cell_type": "code",
   "execution_count": null,
   "metadata": {},
   "outputs": [],
   "source": []
  }
 ],
 "metadata": {
  "kernelspec": {
   "display_name": "Python 3",
   "language": "python",
   "name": "python3"
  },
  "language_info": {
   "codemirror_mode": {
    "name": "ipython",
    "version": 3
   },
   "file_extension": ".py",
   "mimetype": "text/x-python",
   "name": "python",
   "nbconvert_exporter": "python",
   "pygments_lexer": "ipython3",
   "version": "3.6.4"
  }
 },
 "nbformat": 4,
 "nbformat_minor": 2
}
